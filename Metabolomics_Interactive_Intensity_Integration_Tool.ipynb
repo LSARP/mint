{
 "cells": [
  {
   "cell_type": "markdown",
   "metadata": {},
   "source": [
    "# MIIIT - The Metabolomics Interactive Intensity Integration Tool"
   ]
  },
  {
   "cell_type": "code",
   "execution_count": 1,
   "metadata": {},
   "outputs": [],
   "source": [
    "import os\n",
    "#os.chdir('results')"
   ]
  },
  {
   "cell_type": "code",
   "execution_count": 2,
   "metadata": {},
   "outputs": [],
   "source": [
    "from ipywidgets import Button\n",
    "import uuid\n",
    "import datetime\n",
    "import ipywidgets as widgets\n",
    "import traitlets\n",
    "from ipywidgets import interact, interactive, fixed, interact_manual\n",
    "from IPython.display import display\n",
    "from tkinter import Tk, filedialog\n",
    "from tqdm import tqdm_notebook\n",
    "from pyteomics import mzxml\n",
    "import pandas as pd\n",
    "\n",
    "class SelectFilesButton(widgets.Button):\n",
    "    \"\"\"A file widget that leverages tkinter.filedialog.\"\"\"\n",
    "\n",
    "    def __init__(self):\n",
    "        super(SelectFilesButton, self).__init__()\n",
    "        # Add the selected_files trait\n",
    "        self.add_traits(files=traitlets.traitlets.List())\n",
    "        # Create the button.\n",
    "        self.description = \"Select Files\"\n",
    "        self.icon = \"square-o\"\n",
    "        self.style.button_color = \"orange\"\n",
    "        # Set on click behavior.\n",
    "        self.on_click(self.select_files)\n",
    "\n",
    "    @staticmethod\n",
    "    def select_files(b):\n",
    "        \"\"\"Generate instance of tkinter.filedialog.\n",
    "\n",
    "        Parameters\n",
    "        ----------\n",
    "        b : obj:\n",
    "            An instance of ipywidgets.widgets.Button \n",
    "        \"\"\"\n",
    "        try:\n",
    "            # Create Tk root\n",
    "            root = Tk()\n",
    "            # Hide the main window\n",
    "            root.withdraw()\n",
    "            # Raise the root to the top of all windows.\n",
    "            root.call('wm', 'attributes', '.', '-topmost', True)\n",
    "            # List of selected fileswill be set to b.value\n",
    "            b.files = filedialog.askopenfilename(multiple=True)\n",
    "        except:\n",
    "            pass"
   ]
  },
  {
   "cell_type": "code",
   "execution_count": 3,
   "metadata": {},
   "outputs": [],
   "source": [
    "def integrate_peak(filename, rt, delta_rt, mz, delta_mz, peaklabel=None):\n",
    "    if peaklabel is None:\n",
    "        peaklabel = 'Intensity'\n",
    "    df = mzxml_to_pandas_df(filename)\n",
    "    intensity = slice_ms1_mzxml(df, rt, delta_rt, mz, delta_mz)\\\n",
    "                    ['intensity array'].sum().sum()\n",
    "    result = pd.DataFrame({'RT': [rt], \n",
    "                           'DetaRT': [delta_rt],\n",
    "                           'MZ': [mz],\n",
    "                           'DeltaMZ': [delta_mz],\n",
    "                           peaklabel: [intensity]}, index=[filename])\n",
    "    result.index.name = 'FileName'\n",
    "    return result\n",
    "\n",
    "def mzxml_to_pandas_df(filename):\n",
    "    slices = []\n",
    "    file = mzxml.MzXML(filename)\n",
    "    while True:\n",
    "        try:\n",
    "            slices.append(pd.DataFrame(file.next()))\n",
    "        except:\n",
    "            break\n",
    "    df = pd.concat(slices)\n",
    "    df_to_numeric(df)\n",
    "    return df\n",
    "\n",
    "\n",
    "def df_to_numeric(df):\n",
    "    for col in df:\n",
    "        df.loc[:, col] = pd.to_numeric(df[col], errors='ignore')\n",
    "\n",
    "\n",
    "def slice_ms1_mzxml(df, rt, delta_rt, mz, delta_mz):\n",
    "    df_slice = df.loc[(rt-delta_rt <= df.retentionTime) &\n",
    "                      (df.retentionTime <= rt+delta_rt) &\n",
    "                      (mz-delta_mz <= df['m/z array']) & \n",
    "                      (df['m/z array'] <= mz+delta_mz)]\n",
    "    return df_slice"
   ]
  },
  {
   "cell_type": "code",
   "execution_count": 6,
   "metadata": {
    "scrolled": false
   },
   "outputs": [
    {
     "data": {
      "application/vnd.jupyter.widget-view+json": {
       "model_id": "2b1fb23d0d5f4d40a57cf796968384c4",
       "version_major": 2,
       "version_minor": 0
      },
      "text/plain": [
       "VBox(children=(HBox(children=(SelectFilesButton(description='Select Files', icon='square-o', style=ButtonStyle…"
      ]
     },
     "metadata": {},
     "output_type": "display_data"
    },
    {
     "data": {
      "application/vnd.jupyter.widget-view+json": {
       "model_id": "b658849ad9754f2e928adc8d63dfacc9",
       "version_major": 2,
       "version_minor": 0
      },
      "text/plain": [
       "HBox(children=(IntProgress(value=0, max=1), HTML(value='')))"
      ]
     },
     "metadata": {},
     "output_type": "display_data"
    },
    {
     "name": "stdout",
     "output_type": "stream",
     "text": [
      "\n"
     ]
    }
   ],
   "source": [
    "from IPython.display import clear_output\n",
    "from ipywidgets import Button, HBox, VBox, Textarea, HTML\n",
    "import time\n",
    "\n",
    "class App():\n",
    "    def __init__(self, mzxmlfiles):\n",
    "        self.files = mzxmlfiles\n",
    "        self.rt = widgets.BoundedFloatText(\n",
    "            value=2,\n",
    "            min=0,\n",
    "            max=100000.0,\n",
    "            step=0.001,\n",
    "            description='RT:',\n",
    "            disabled=False)\n",
    "        self.drt = widgets.BoundedFloatText(\n",
    "            value=1,\n",
    "            min=0,\n",
    "            max=15,\n",
    "            step=0.01,\n",
    "            description='Delta RT:',\n",
    "            disabled=False)\n",
    "        self.mz = widgets.BoundedFloatText(\n",
    "            value=500,\n",
    "            min=0,\n",
    "            max=100000.0,\n",
    "            step=0.001,\n",
    "            description='m/z:',\n",
    "            disabled=False)\n",
    "        self.dmz = widgets.BoundedFloatText(\n",
    "            value=0.1,\n",
    "            min=0,\n",
    "            max=100000.0,\n",
    "            step=0.001,\n",
    "            description='Delta m/z:',\n",
    "            disabled=False)\n",
    "        self.message_box = Textarea(\n",
    "            value='',\n",
    "            placeholder='Please select some files and click on Run.',\n",
    "            description='',\n",
    "            disabled=True,\n",
    "            layout={'width': '95%', 'height': '500px', 'font_family': 'monospace'})\n",
    "        self.list_button = Button(description=\"List Files\")\n",
    "        self.list_button.on_click(self.list_files)\n",
    "        self.run_button = Button(description=\"Run\")\n",
    "        self.run_button.on_click(self.run)\n",
    "        self.download_button = Button(description=\"Download\")\n",
    "        self.download_button.on_click(self.download)\n",
    "        self.results = None\n",
    "        self.download_html = HTML(\"\"\"Nothing to download\"\"\")\n",
    "        \n",
    "    def run(self, b):\n",
    "        # print('Running')\n",
    "        rt = self.rt.value\n",
    "        drt = self.drt.value \n",
    "        mz = self.mz.value\n",
    "        dmz = self.dmz.value\n",
    "        # print('Parameters: rt={}+/-{}, mz={}+/-{}'.format(rt, drt, mz, dmz))\n",
    "        time.sleep(1)\n",
    "        results = []\n",
    "        for filename in tqdm_notebook(self.files.files):\n",
    "            #print('Processing:', filename)\n",
    "            result = integrate_peak(filename, rt, drt, mz, dmz, 'IntensitySum')\n",
    "            results.append(result)\n",
    "        self.results = pd.concat(results)\n",
    "        self.message_box.value = self.results.to_string()\n",
    "        self.download(None)\n",
    "        return self.results\n",
    "\n",
    "    def list_files(self, b):\n",
    "        text = ''\n",
    "        for line in self.files.files:\n",
    "            text += line+'\\n'\n",
    "        self.message_box.value = text\n",
    "    \n",
    "    def download(self, b):\n",
    "        if self.results is None:\n",
    "            print('First you have to create some results.')\n",
    "        else:\n",
    "            uid = str(uuid.uuid4()).split('-')[-1]\n",
    "            now = datetime.datetime.now().strftime(\"%Y-%m-%d\")\n",
    "            filename = '{}-metabolomics_peak_intensity-{}.csv'.format(now, uid)\n",
    "            self.results.to_csv(filename)\n",
    "            self.download_html.value = \"\"\"<a download='{}' href='{}'>Download</a>\"\"\".format(filename, filename)\n",
    "\n",
    "mzxmlfiles = SelectFilesButton()\n",
    "app = App(mzxmlfiles)\n",
    "\n",
    "VBox([HBox([mzxmlfiles, app.list_button, app.run_button, app.download_html]),\n",
    "      HBox([app.rt, app.drt, app.mz, app.dmz]),\n",
    "      app.message_box])\n"
   ]
  }
 ],
 "metadata": {
  "kernelspec": {
   "display_name": "Python 3",
   "language": "python",
   "name": "python3"
  },
  "language_info": {
   "codemirror_mode": {
    "name": "ipython",
    "version": 3
   },
   "file_extension": ".py",
   "mimetype": "text/x-python",
   "name": "python",
   "nbconvert_exporter": "python",
   "pygments_lexer": "ipython3",
   "version": "3.6.6"
  }
 },
 "nbformat": 4,
 "nbformat_minor": 2
}
